{
  "nbformat": 4,
  "nbformat_minor": 0,
  "metadata": {
    "colab": {
      "provenance": []
    },
    "kernelspec": {
      "name": "python3",
      "display_name": "Python 3"
    },
    "language_info": {
      "name": "python"
    }
  },
  "cells": [
    {
      "cell_type": "code",
      "source": [
        "#ch!pip install kaggle\n"
      ],
      "metadata": {
        "id": "vqQKDQyNU1f2"
      },
      "execution_count": 103,
      "outputs": []
    },
    {
      "cell_type": "code",
      "source": [
        "\"\"\"from google.colab import files\n",
        "files.upload()\n",
        "\n",
        "!mkdir -p ~/.kaggle\n",
        "!mv kaggle.json ~/.kaggle\n",
        "\n",
        "!chmod 600 ~/.kaggle/kaggle.json\n",
        "!kaggle competitions download -c digit-recognizer\n",
        "!unzip digit-recognizer.zip#loading the data set\n",
        "\"\"\""
      ],
      "metadata": {
        "colab": {
          "base_uri": "https://localhost:8080/",
          "height": 53
        },
        "id": "iZs-LgzOVGLB",
        "outputId": "7e4155b4-e7a3-47e1-bb5f-526d8c78b864"
      },
      "execution_count": 104,
      "outputs": [
        {
          "output_type": "execute_result",
          "data": {
            "text/plain": [
              "'from google.colab import files\\nfiles.upload()\\n\\n!mkdir -p ~/.kaggle\\n!mv kaggle.json ~/.kaggle\\n\\n!chmod 600 ~/.kaggle/kaggle.json\\n!kaggle competitions download -c digit-recognizer\\n!unzip digit-recognizer.zip#loading the data set\\n'"
            ],
            "application/vnd.google.colaboratory.intrinsic+json": {
              "type": "string"
            }
          },
          "metadata": {},
          "execution_count": 104
        }
      ]
    },
    {
      "cell_type": "code",
      "source": [
        "import numpy as np\n",
        "import numpy as np\n",
        "import pandas as pd\n",
        "import tensorflow as tf\n",
        "from tensorflow import keras\n",
        "from tensorflow.keras.layers import Dense\n",
        "from tensorflow.keras.models import Sequential\n",
        "import matplotlib.pyplot as plt\n",
        "# Load and preprocess the data\n",
        "train_df = pd.read_csv(\"train.csv\")\n",
        "test=pd.read_csv(\"test.csv\")\n"
      ],
      "metadata": {
        "id": "KZIKGmQ4sUJV"
      },
      "execution_count": 105,
      "outputs": []
    },
    {
      "cell_type": "code",
      "source": [
        "train_df.info"
      ],
      "metadata": {
        "id": "8oLs9rrusrfM",
        "colab": {
          "base_uri": "https://localhost:8080/"
        },
        "outputId": "9289d662-4c75-4a73-863c-26a00d92e8fb"
      },
      "execution_count": 106,
      "outputs": [
        {
          "output_type": "execute_result",
          "data": {
            "text/plain": [
              "<bound method DataFrame.info of        label  pixel0  pixel1  pixel2  pixel3  pixel4  pixel5  pixel6  pixel7  \\\n",
              "0          1       0       0       0       0       0       0       0       0   \n",
              "1          0       0       0       0       0       0       0       0       0   \n",
              "2          1       0       0       0       0       0       0       0       0   \n",
              "3          4       0       0       0       0       0       0       0       0   \n",
              "4          0       0       0       0       0       0       0       0       0   \n",
              "...      ...     ...     ...     ...     ...     ...     ...     ...     ...   \n",
              "41995      0       0       0       0       0       0       0       0       0   \n",
              "41996      1       0       0       0       0       0       0       0       0   \n",
              "41997      7       0       0       0       0       0       0       0       0   \n",
              "41998      6       0       0       0       0       0       0       0       0   \n",
              "41999      9       0       0       0       0       0       0       0       0   \n",
              "\n",
              "       pixel8  ...  pixel774  pixel775  pixel776  pixel777  pixel778  \\\n",
              "0           0  ...         0         0         0         0         0   \n",
              "1           0  ...         0         0         0         0         0   \n",
              "2           0  ...         0         0         0         0         0   \n",
              "3           0  ...         0         0         0         0         0   \n",
              "4           0  ...         0         0         0         0         0   \n",
              "...       ...  ...       ...       ...       ...       ...       ...   \n",
              "41995       0  ...         0         0         0         0         0   \n",
              "41996       0  ...         0         0         0         0         0   \n",
              "41997       0  ...         0         0         0         0         0   \n",
              "41998       0  ...         0         0         0         0         0   \n",
              "41999       0  ...         0         0         0         0         0   \n",
              "\n",
              "       pixel779  pixel780  pixel781  pixel782  pixel783  \n",
              "0             0         0         0         0         0  \n",
              "1             0         0         0         0         0  \n",
              "2             0         0         0         0         0  \n",
              "3             0         0         0         0         0  \n",
              "4             0         0         0         0         0  \n",
              "...         ...       ...       ...       ...       ...  \n",
              "41995         0         0         0         0         0  \n",
              "41996         0         0         0         0         0  \n",
              "41997         0         0         0         0         0  \n",
              "41998         0         0         0         0         0  \n",
              "41999         0         0         0         0         0  \n",
              "\n",
              "[42000 rows x 785 columns]>"
            ]
          },
          "metadata": {},
          "execution_count": 106
        }
      ]
    },
    {
      "cell_type": "code",
      "source": [
        "xtrain=train_df.drop(\"label\",axis=1).values.astype(\"float32\")/255.0#float32 is used to convert the\n",
        "#pixel values to 32-bit floating-point numbers.\n",
        "#/255.0 is used to convert pixcel into 0 -1 format\n",
        "ytrain=train_df[\"label\"].values"
      ],
      "metadata": {
        "id": "0euvzgbwsveq"
      },
      "execution_count": 107,
      "outputs": []
    },
    {
      "cell_type": "code",
      "source": [
        "print(xtrain)\n",
        "print(\"ytrain\",ytrain)\n",
        "\n",
        "# Extract the unique digit labels\n",
        "unique_digits = train_df[\"label\"].unique()\n",
        "\n",
        "# Print the unique digit labels\n",
        "print(\"Digit including:\", unique_digits)"
      ],
      "metadata": {
        "id": "N0soXHvKt3Tu",
        "colab": {
          "base_uri": "https://localhost:8080/"
        },
        "outputId": "1b0b0285-d0aa-4711-f5d5-30fe3a78e3bc"
      },
      "execution_count": 108,
      "outputs": [
        {
          "output_type": "stream",
          "name": "stdout",
          "text": [
            "[[0. 0. 0. ... 0. 0. 0.]\n",
            " [0. 0. 0. ... 0. 0. 0.]\n",
            " [0. 0. 0. ... 0. 0. 0.]\n",
            " ...\n",
            " [0. 0. 0. ... 0. 0. 0.]\n",
            " [0. 0. 0. ... 0. 0. 0.]\n",
            " [0. 0. 0. ... 0. 0. 0.]]\n",
            "ytrain [1 0 1 ... 7 6 9]\n",
            "Digit including: [1 0 4 7 3 5 8 9 2 6]\n"
          ]
        }
      ]
    },
    {
      "cell_type": "code",
      "source": [
        "unique_digits =np.arange(10)\n",
        "# Set the figure size for the subplots\n",
        "plt.figure(figsize=(18, 6))\n",
        "\n",
        "# Iterate through each digit and display one example\n",
        "for i, digit in enumerate(unique_digits):\n",
        "    # Filter the dataset to get images of the current digit\n",
        "    digit_data = train_df[train_df[\"label\"] == digit]\n",
        "\n",
        "    # Choose an image from the filtered data to display (e.g., the first one)\n",
        "    image_to_display = digit_data.iloc[0, 1:].values.astype(\"float32\")\n",
        "    image_to_display = image_to_display.reshape(28, 28)\n",
        "\n",
        "    # Create a subplot for the current digit\n",
        "    plt.subplot(2,5, i + 1)#2-rows and 5 columns\n",
        "    plt.imshow(image_to_display, cmap=\"gray\")\n",
        "    plt.title(f\"Number {digit}\")\n",
        "\n",
        "\n",
        "# Adjust subplot spacing\n",
        "plt.tight_layout()\n",
        "\n",
        "# Show all the digit images\n",
        "plt.show()"
      ],
      "metadata": {
        "colab": {
          "base_uri": "https://localhost:8080/",
          "height": 510
        },
        "id": "dvMDkAnazhI0",
        "outputId": "80d1c5dc-1bee-44f2-e431-908b52537151"
      },
      "execution_count": 109,
      "outputs": [
        {
          "output_type": "display_data",
          "data": {
            "text/plain": [
              "<Figure size 1800x600 with 10 Axes>"
            ],
            "image/png": "[encoded data removed]"
          },
          "metadata": {}
        }
      ]
    },
    {
      "cell_type": "code",
      "source": [
        "model = keras.Sequential([\n",
        "    keras.layers.Conv2D(32, (3, 3), activation='relu', input_shape=(28, 28, 1)),\n",
        "    keras.layers.MaxPooling2D((2, 2)),\n",
        "    keras.layers.Flatten(),\n",
        "    keras.layers.Dense(128, activation='relu'),\n",
        "    keras.layers.Dense(10, activation='softmax')\n",
        "])\n",
        "model.compile(optimizer='adam',\n",
        "              loss='sparse_categorical_crossentropy',\n",
        "              metrics=['accuracy'])"
      ],
      "metadata": {
        "id": "fPTPWXFht-tZ"
      },
      "execution_count": 120,
      "outputs": []
    },
    {
      "cell_type": "code",
      "source": [
        "model.summary()\n"
      ],
      "metadata": {
        "id": "Jw6npleuuysx",
        "colab": {
          "base_uri": "https://localhost:8080/"
        },
        "outputId": "989f9553-ea6b-4fb6-8d97-eb0c1c25460a"
      },
      "execution_count": 123,
      "outputs": [
        {
          "output_type": "stream",
          "name": "stdout",
          "text": [
            "Model: \"sequential_29\"\n",
            "_________________________________________________________________\n",
            " Layer (type)                Output Shape              Param #   \n",
            "=================================================================\n",
            " conv2d_19 (Conv2D)          (None, 26, 26, 32)        320       \n",
            "                                                                 \n",
            " max_pooling2d_19 (MaxPooli  (None, 13, 13, 32)        0         \n",
            " ng2D)                                                           \n",
            "                                                                 \n",
            " flatten_19 (Flatten)        (None, 5408)              0         \n",
            "                                                                 \n",
            " dense_65 (Dense)            (None, 128)               692352    \n",
            "                                                                 \n",
            " dense_66 (Dense)            (None, 10)                1290      \n",
            "                                                                 \n",
            "=================================================================\n",
            "Total params: 693962 (2.65 MB)\n",
            "Trainable params: 693962 (2.65 MB)\n",
            "Non-trainable params: 0 (0.00 Byte)\n",
            "_________________________________________________________________\n"
          ]
        }
      ]
    },
    {
      "cell_type": "code",
      "source": [
        "model.fit(xtrain.reshape(-1, 28, 28, 1), ytrain, epochs=10)"
      ],
      "metadata": {
        "colab": {
          "base_uri": "https://localhost:8080/"
        },
        "id": "DymVrGb3wKRH",
        "outputId": "2b540161-8004-4682-e52a-048a7529a1ac"
      },
      "execution_count": 124,
      "outputs": [
        {
          "output_type": "stream",
          "name": "stdout",
          "text": [
            "Epoch 1/10\n",
            "1313/1313 [==============================] - 30s 23ms/step - loss: 0.1064 - accuracy: 0.9693\n",
            "Epoch 2/10\n",
            "1313/1313 [==============================] - 28s 22ms/step - loss: 0.0510 - accuracy: 0.9844\n",
            "Epoch 3/10\n",
            "1313/1313 [==============================] - 29s 22ms/step - loss: 0.0330 - accuracy: 0.9896\n",
            "Epoch 4/10\n",
            "1313/1313 [==============================] - 28s 22ms/step - loss: 0.0233 - accuracy: 0.9925\n",
            "Epoch 5/10\n",
            "1313/1313 [==============================] - 28s 21ms/step - loss: 0.0164 - accuracy: 0.9950\n",
            "Epoch 6/10\n",
            "1313/1313 [==============================] - 29s 22ms/step - loss: 0.0122 - accuracy: 0.9955\n",
            "Epoch 7/10\n",
            "1313/1313 [==============================] - 28s 21ms/step - loss: 0.0089 - accuracy: 0.9970\n",
            "Epoch 8/10\n",
            "1313/1313 [==============================] - 28s 22ms/step - loss: 0.0075 - accuracy: 0.9974\n",
            "Epoch 9/10\n",
            "1313/1313 [==============================] - 28s 21ms/step - loss: 0.0047 - accuracy: 0.9985\n",
            "Epoch 10/10\n",
            "1313/1313 [==============================] - 28s 21ms/step - loss: 0.0067 - accuracy: 0.9977\n"
          ]
        },
        {
          "output_type": "execute_result",
          "data": {
            "text/plain": [
              "<keras.src.callbacks.History at 0x7f4d0a7b7f70>"
            ]
          },
          "metadata": {},
          "execution_count": 124
        }
      ]
    },
    {
      "cell_type": "code",
      "source": [
        "\n",
        "# Load the actual test data (in this case, we are using the same training data for demonstration)\n",
        "X_test = xtrain\n",
        "y_test = ytrain\n",
        "\n",
        "# Define the range of images to process\n",
        "start_index = 0  # Replace with the start index of the range\n",
        "end_index = 50  # Replace with the end index of the range\n",
        "\n",
        "# Loop through the specified range of images and make predictions\n",
        "for i in range(start_index, end_index):\n",
        "    test_image = X_test[i].reshape(1, 28, 28, 1)\n",
        "    predicted_label = model.predict(test_image)\n",
        "    predicted_digit = np.argmax(predicted_label)\n",
        "\n",
        "    # Print both the actual and predicted values\n",
        "    actual_digit = y_test[i]\n",
        "    print(f\"Image {i+1}: Actual Digit:- {actual_digit}, Predicted Digit:- {predicted_digit}\")\n"
      ],
      "metadata": {
        "colab": {
          "base_uri": "https://localhost:8080/"
        },
        "id": "Gnw0Xxp9zI-d",
        "outputId": "69275c13-7355-42de-8245-51d28b9294bc"
      },
      "execution_count": 127,
      "outputs": [
        {
          "output_type": "stream",
          "name": "stdout",
          "text": [
            "1/1 [==============================] - 0s 39ms/step\n",
            "Image 1: Actual Digit:- 1, Predicted Digit:- 1\n",
            "1/1 [==============================] - 0s 58ms/step\n",
            "Image 2: Actual Digit:- 0, Predicted Digit:- 0\n",
            "1/1 [==============================] - 0s 49ms/step\n",
            "Image 3: Actual Digit:- 1, Predicted Digit:- 1\n",
            "1/1 [==============================] - 0s 38ms/step\n",
            "Image 4: Actual Digit:- 4, Predicted Digit:- 4\n",
            "1/1 [==============================] - 0s 47ms/step\n",
            "Image 5: Actual Digit:- 0, Predicted Digit:- 0\n",
            "1/1 [==============================] - 0s 37ms/step\n",
            "Image 6: Actual Digit:- 0, Predicted Digit:- 0\n",
            "1/1 [==============================] - 0s 37ms/step\n",
            "Image 7: Actual Digit:- 7, Predicted Digit:- 7\n",
            "1/1 [==============================] - 0s 49ms/step\n",
            "Image 8: Actual Digit:- 3, Predicted Digit:- 3\n",
            "1/1 [==============================] - 0s 51ms/step\n",
            "Image 9: Actual Digit:- 5, Predicted Digit:- 5\n",
            "1/1 [==============================] - 0s 36ms/step\n",
            "Image 10: Actual Digit:- 3, Predicted Digit:- 3\n",
            "1/1 [==============================] - 0s 41ms/step\n",
            "Image 11: Actual Digit:- 8, Predicted Digit:- 8\n",
            "1/1 [==============================] - 0s 39ms/step\n",
            "Image 12: Actual Digit:- 9, Predicted Digit:- 9\n",
            "1/1 [==============================] - 0s 37ms/step\n",
            "Image 13: Actual Digit:- 1, Predicted Digit:- 1\n",
            "1/1 [==============================] - 0s 48ms/step\n",
            "Image 14: Actual Digit:- 3, Predicted Digit:- 3\n",
            "1/1 [==============================] - 0s 41ms/step\n",
            "Image 15: Actual Digit:- 3, Predicted Digit:- 3\n",
            "1/1 [==============================] - 0s 38ms/step\n",
            "Image 16: Actual Digit:- 1, Predicted Digit:- 1\n",
            "1/1 [==============================] - 0s 52ms/step\n",
            "Image 17: Actual Digit:- 2, Predicted Digit:- 2\n",
            "1/1 [==============================] - 0s 94ms/step\n",
            "Image 18: Actual Digit:- 0, Predicted Digit:- 0\n",
            "1/1 [==============================] - 0s 31ms/step\n",
            "Image 19: Actual Digit:- 7, Predicted Digit:- 7\n",
            "1/1 [==============================] - 0s 89ms/step\n",
            "Image 20: Actual Digit:- 5, Predicted Digit:- 5\n",
            "1/1 [==============================] - 0s 22ms/step\n",
            "Image 21: Actual Digit:- 8, Predicted Digit:- 8\n",
            "1/1 [==============================] - 0s 32ms/step\n",
            "Image 22: Actual Digit:- 6, Predicted Digit:- 6\n",
            "1/1 [==============================] - 0s 21ms/step\n",
            "Image 23: Actual Digit:- 2, Predicted Digit:- 2\n",
            "1/1 [==============================] - 0s 22ms/step\n",
            "Image 24: Actual Digit:- 0, Predicted Digit:- 0\n",
            "1/1 [==============================] - 0s 28ms/step\n",
            "Image 25: Actual Digit:- 2, Predicted Digit:- 2\n",
            "1/1 [==============================] - 0s 28ms/step\n",
            "Image 26: Actual Digit:- 3, Predicted Digit:- 3\n",
            "1/1 [==============================] - 0s 28ms/step\n",
            "Image 27: Actual Digit:- 6, Predicted Digit:- 6\n",
            "1/1 [==============================] - 0s 24ms/step\n",
            "Image 28: Actual Digit:- 9, Predicted Digit:- 9\n",
            "1/1 [==============================] - 0s 22ms/step\n",
            "Image 29: Actual Digit:- 9, Predicted Digit:- 9\n",
            "1/1 [==============================] - 0s 23ms/step\n",
            "Image 30: Actual Digit:- 7, Predicted Digit:- 7\n",
            "1/1 [==============================] - 0s 24ms/step\n",
            "Image 31: Actual Digit:- 8, Predicted Digit:- 8\n",
            "1/1 [==============================] - 0s 26ms/step\n",
            "Image 32: Actual Digit:- 9, Predicted Digit:- 9\n",
            "1/1 [==============================] - 0s 26ms/step\n",
            "Image 33: Actual Digit:- 4, Predicted Digit:- 4\n",
            "1/1 [==============================] - 0s 24ms/step\n",
            "Image 34: Actual Digit:- 9, Predicted Digit:- 9\n",
            "1/1 [==============================] - 0s 24ms/step\n",
            "Image 35: Actual Digit:- 2, Predicted Digit:- 2\n",
            "1/1 [==============================] - 0s 29ms/step\n",
            "Image 36: Actual Digit:- 1, Predicted Digit:- 1\n",
            "1/1 [==============================] - 0s 23ms/step\n",
            "Image 37: Actual Digit:- 3, Predicted Digit:- 3\n",
            "1/1 [==============================] - 0s 24ms/step\n",
            "Image 38: Actual Digit:- 1, Predicted Digit:- 1\n",
            "1/1 [==============================] - 0s 30ms/step\n",
            "Image 39: Actual Digit:- 1, Predicted Digit:- 1\n",
            "1/1 [==============================] - 0s 24ms/step\n",
            "Image 40: Actual Digit:- 4, Predicted Digit:- 4\n",
            "1/1 [==============================] - 0s 27ms/step\n",
            "Image 41: Actual Digit:- 9, Predicted Digit:- 9\n",
            "1/1 [==============================] - 0s 24ms/step\n",
            "Image 42: Actual Digit:- 1, Predicted Digit:- 1\n",
            "1/1 [==============================] - 0s 30ms/step\n",
            "Image 43: Actual Digit:- 4, Predicted Digit:- 4\n",
            "1/1 [==============================] - 0s 30ms/step\n",
            "Image 44: Actual Digit:- 4, Predicted Digit:- 4\n",
            "1/1 [==============================] - 0s 22ms/step\n",
            "Image 45: Actual Digit:- 2, Predicted Digit:- 2\n",
            "1/1 [==============================] - 0s 23ms/step\n",
            "Image 46: Actual Digit:- 6, Predicted Digit:- 6\n",
            "1/1 [==============================] - 0s 22ms/step\n",
            "Image 47: Actual Digit:- 3, Predicted Digit:- 3\n",
            "1/1 [==============================] - 0s 21ms/step\n",
            "Image 48: Actual Digit:- 7, Predicted Digit:- 7\n",
            "1/1 [==============================] - 0s 22ms/step\n",
            "Image 49: Actual Digit:- 7, Predicted Digit:- 7\n",
            "1/1 [==============================] - 0s 27ms/step\n",
            "Image 50: Actual Digit:- 4, Predicted Digit:- 4\n"
          ]
        }
      ]
    },
    {
      "cell_type": "code",
      "source": [
        "'''\n",
        "# Build a CNN model\n",
        "model = keras.Sequential([\n",
        "    keras.layers.Conv2D(32, (3, 3), activation='relu', input_shape=(28, 28, 1)),\n",
        "    keras.layers.MaxPooling2D((2, 2)),\n",
        "    keras.layers.Flatten(),\n",
        "    keras.layers.Dense(128, activation='relu'),\n",
        "    keras.layers.Dense(10, activation='softmax')\n",
        "])\n",
        "\n",
        "# Compile the model\n",
        "model.compile(optimizer='adam',\n",
        "              loss='sparse_categorical_crossentropy',\n",
        "              metrics=['accuracy'])\n",
        "\n",
        "# Train the model (you can adjust the number of epochs and other hyperparameters)\n",
        "model.fit(X_train.reshape(-1, 28, 28, 1), y_train, epochs=4)\n",
        "model = keras.Sequential([ ... ]): This line creates a sequential model, which is a linear stack of layers.\n",
        " In a sequential model, you can add layers one after the other, and data flows through the layers sequentially.\n",
        "\n",
        "keras.layers.Conv2D(32, (3, 3), activation='relu', input_shape=(28, 28, 1)):\n",
        "\n",
        "\n",
        "keras.layers.Conv2D: This line adds a 2D convolutional layer to the model. Convolutional layers are typically used in image processing tasks for feature extraction.\n",
        "32: This parameter specifies the number of filters (also known as kernels) in the convolutional layer. Each filter learns to recognize different features in the input.\n",
        "(3, 3): This parameter specifies the size of the convolutional kernel. In this case, it's a 3x3 kernel.\n",
        "activation='relu': The activation function used in this layer is Rectified Linear Unit (ReLU), which is a common choice for convolutional layers.\n",
        "It introduces non-linearity into the model.\n",
        "input_shape=(28, 28, 1): This parameter specifies the shape of the input data that will be fed into the model.\n",
        "In this case, the input shape is 28x28 pixels with a single color channel (grayscale).\n",
        "keras.layers.MaxPooling2D((2, 2)):\n",
        "\n",
        "keras.layers.MaxPooling2D: This line adds a max-pooling layer to the model.\n",
        " Max-pooling is a downsampling operation that reduces the spatial dimensions of the previous layer's output while retaining important features.\n",
        "(2, 2): This parameter specifies the size of the pooling window, which is 2x2 in this case.\n",
        "keras.layers.Flatten(): This line adds a flattening layer to the model. The purpose of this layer is to convert the multi-dimensional output from\n",
        "the previous layers into a one-dimensional vector. This is typically done before connecting to fully connected (dense) layers.\n",
        "\n",
        "keras.layers.Dense(128, activation='relu'):\n",
        "\n",
        "keras.layers.Dense: This line adds a fully connected (dense) layer to the model. Dense layers are used for classification and regression tasks.\n",
        "128: This parameter specifies the number of neurons (units) in this dense layer.\n",
        "activation='relu': The activation function used in this dense layer is ReLU.\n",
        "keras.layers.Dense(10, activation='softmax'):\n",
        "\n",
        "Another fully connected dense layer is added with 10 neurons, corresponding to the 10 possible digit classes (0 to 9).\n",
        "activation='softmax': The softmax activation function is used in this layer. It converts the model's output into probability values,\n",
        " where each value represents the probability of the input image belonging to a specific digit class'''"
      ],
      "metadata": {
        "colab": {
          "base_uri": "https://localhost:8080/",
          "height": 123
        },
        "id": "W0Vv4h3awK30",
        "outputId": "e96a753c-08c7-48e1-d8b5-404ac78e346d"
      },
      "execution_count": 129,
      "outputs": [
        {
          "output_type": "execute_result",
          "data": {
            "text/plain": [
              "\"\\n# Build a CNN model\\nmodel = keras.Sequential([\\n    keras.layers.Conv2D(32, (3, 3), activation='relu', input_shape=(28, 28, 1)),\\n    keras.layers.MaxPooling2D((2, 2)),\\n    keras.layers.Flatten(),\\n    keras.layers.Dense(128, activation='relu'),\\n    keras.layers.Dense(10, activation='softmax')\\n])\\n\\n# Compile the model\\nmodel.compile(optimizer='adam',\\n              loss='sparse_categorical_crossentropy',\\n              metrics=['accuracy'])\\n\\n# Train the model (you can adjust the number of epochs and other hyperparameters)\\nmodel.fit(X_train.reshape(-1, 28, 28, 1), y_train, epochs=4)\\nmodel = keras.Sequential([ ... ]): This line creates a sequential model, which is a linear stack of layers.\\n In a sequential model, you can add layers one after the other, and data flows through the layers sequentially.\\n\\nkeras.layers.Conv2D(32, (3, 3), activation='relu', input_shape=(28, 28, 1)):\\n\\n\\nkeras.layers.Conv2D: This line adds a 2D convolutional layer to the model. Convolutional layers are typically used in image processing tasks for feature extraction.\\n32: This parameter specifies the number of filters (also known as kernels) in the convolutional layer. Each filter learns to recognize different features in the input.\\n(3, 3): This parameter specifies the size of the convolutional kernel. In this case, it's a 3x3 kernel.\\nactivation='relu': The activation function used in this layer is Rectified Linear Unit (ReLU), which is a common choice for convolutional layers. \\nIt introduces non-linearity into the model.\\ninput_shape=(28, 28, 1): This parameter specifies the shape of the input data that will be fed into the model. \\nIn this case, the input shape is 28x28 pixels with a single color channel (grayscale).\\nkeras.layers.MaxPooling2D((2, 2)):\\n\\nkeras.layers.MaxPooling2D: This line adds a max-pooling layer to the model.\\n Max-pooling is a downsampling operation that reduces the spatial dimensions of the previous layer's output while retaining important features.\\n(2, 2): This parameter specifies the size of the pooling window, which is 2x2 in this case.\\nkeras.layers.Flatten(): This line adds a flattening layer to the model. The purpose of this layer is to convert the multi-dimensional output from \\nthe previous layers into a one-dimensional vector. This is typically done before connecting to fully connected (dense) layers.\\n\\nkeras.layers.Dense(128, activation='relu'):\\n\\nkeras.layers.Dense: This line adds a fully connected (dense) layer to the model. Dense layers are used for classification and regression tasks.\\n128: This parameter specifies the number of neurons (units) in this dense layer.\\nactivation='relu': The activation function used in this dense layer is ReLU.\\nkeras.layers.Dense(10, activation='softmax'):\\n\\nAnother fully connected dense layer is added with 10 neurons, corresponding to the 10 possible digit classes (0 to 9).\\nactivation='softmax': The softmax activation function is used in this layer. It converts the model's output into probability values,\\n where each value represents the probability of the input image belonging to a specific digit class\""
            ],
            "application/vnd.google.colaboratory.intrinsic+json": {
              "type": "string"
            }
          },
          "metadata": {},
          "execution_count": 129
        }
      ]
    },
    {
      "cell_type": "code",
      "source": [],
      "metadata": {
        "id": "kELK81fF21T9"
      },
      "execution_count": null,
      "outputs": []
    }
  ]
}